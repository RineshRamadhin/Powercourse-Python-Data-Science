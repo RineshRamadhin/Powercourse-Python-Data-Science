{
 "cells": [
  {
   "cell_type": "markdown",
   "id": "neutral-fellow",
   "metadata": {},
   "source": [
    "# This is you"
   ]
  },
  {
   "cell_type": "markdown",
   "id": "hybrid-wyoming",
   "metadata": {},
   "source": [
    "Now it's your turn to play around. Here I've setup the basics for a new Python 3 Data Science notebook."
   ]
  },
  {
   "cell_type": "markdown",
   "id": "charitable-minnesota",
   "metadata": {},
   "source": [
    "### Setup"
   ]
  },
  {
   "cell_type": "markdown",
   "id": "extraordinary-waters",
   "metadata": {},
   "source": [
    "Some necessary dependencies and settings."
   ]
  },
  {
   "cell_type": "code",
   "execution_count": null,
   "id": "scheduled-postcard",
   "metadata": {
    "ExecuteTime": {
     "end_time": "2021-03-19T12:49:16.596592Z",
     "start_time": "2021-03-19T12:49:15.603085Z"
    }
   },
   "outputs": [],
   "source": [
    "from __future__ import print_function, division\n",
    "import pandas as pd\n",
    "import numpy as np\n",
    "import scipy as sp\n",
    "import matplotlib as mpl\n",
    "import matplotlib.pyplot as plt\n",
    "import seaborn as sns"
   ]
  },
  {
   "cell_type": "code",
   "execution_count": null,
   "id": "laden-hands",
   "metadata": {
    "ExecuteTime": {
     "end_time": "2021-03-19T12:49:16.606604Z",
     "start_time": "2021-03-19T12:49:16.599661Z"
    }
   },
   "outputs": [],
   "source": [
    "%matplotlib inline\n",
    "pd.set_option('display.max_columns', None)"
   ]
  },
  {
   "cell_type": "markdown",
   "id": "finite-whale",
   "metadata": {},
   "source": [
    "## Load data"
   ]
  },
  {
   "cell_type": "markdown",
   "id": "exact-balloon",
   "metadata": {},
   "source": [
    "Let's load in some data into a dataframe."
   ]
  },
  {
   "cell_type": "code",
   "execution_count": null,
   "id": "ahead-sheep",
   "metadata": {
    "ExecuteTime": {
     "end_time": "2021-03-19T12:49:17.195804Z",
     "start_time": "2021-03-19T12:49:16.612084Z"
    }
   },
   "outputs": [],
   "source": [
    "df = pd.read_csv('do/you/know/where/your/data/is?.csv')"
   ]
  },
  {
   "cell_type": "code",
   "execution_count": null,
   "id": "joined-census",
   "metadata": {
    "ExecuteTime": {
     "end_time": "2021-03-19T12:48:08.647673Z",
     "start_time": "2021-03-19T12:48:08.639560Z"
    }
   },
   "outputs": [],
   "source": []
  }
 ],
 "metadata": {
  "kernelspec": {
   "display_name": "Python 3",
   "language": "python",
   "name": "python3"
  },
  "language_info": {
   "codemirror_mode": {
    "name": "ipython",
    "version": 3
   },
   "file_extension": ".py",
   "mimetype": "text/x-python",
   "name": "python",
   "nbconvert_exporter": "python",
   "pygments_lexer": "ipython3",
   "version": "3.8.8"
  },
  "varInspector": {
   "cols": {
    "lenName": 16,
    "lenType": 16,
    "lenVar": 40
   },
   "kernels_config": {
    "python": {
     "delete_cmd_postfix": "",
     "delete_cmd_prefix": "del ",
     "library": "var_list.py",
     "varRefreshCmd": "print(var_dic_list())"
    },
    "r": {
     "delete_cmd_postfix": ") ",
     "delete_cmd_prefix": "rm(",
     "library": "var_list.r",
     "varRefreshCmd": "cat(var_dic_list()) "
    }
   },
   "types_to_exclude": [
    "module",
    "function",
    "builtin_function_or_method",
    "instance",
    "_Feature"
   ],
   "window_display": false
  }
 },
 "nbformat": 4,
 "nbformat_minor": 5
}
